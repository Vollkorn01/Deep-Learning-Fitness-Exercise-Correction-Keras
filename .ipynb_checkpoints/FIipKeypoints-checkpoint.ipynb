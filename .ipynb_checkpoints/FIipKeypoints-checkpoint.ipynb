{
 "cells": [
  {
   "cell_type": "code",
   "execution_count": 1,
   "metadata": {},
   "outputs": [],
   "source": [
    "import pandas as pd\n",
    "import numpy as np\n",
    "table= pd.read_csv('imagetable.csv')"
   ]
  },
  {
   "cell_type": "code",
   "execution_count": 2,
   "metadata": {},
   "outputs": [],
   "source": [
    "x=table['X'].values\n",
    "y=table['Y'].values\n",
    "original=table['Original'].values\n",
    "h=360 #Height of the pictures\n",
    "b=240 #bradth of the pictures"
   ]
  },
  {
   "cell_type": "code",
   "execution_count": 3,
   "metadata": {},
   "outputs": [],
   "source": [
    "x_h=[]\n",
    "y_h=[]\n",
    "x_hv=[]\n",
    "y_hv=[]\n",
    "x_v=[]\n",
    "y_v=[]"
   ]
  },
  {
   "cell_type": "code",
   "execution_count": 4,
   "metadata": {},
   "outputs": [],
   "source": [
    "#Flip Horizontal\n",
    "def horizontal():\n",
    "  for (i,p) in zip(x,y):\n",
    "    x_new=b-i\n",
    "    y_new=p\n",
    "    x_h.append(x_new)\n",
    "    y_h.append(y_new)  \n",
    "  np.savetxt('horizontal.csv', [k for k in zip(x_h,y_h)], delimiter=',', fmt='%s')  "
   ]
  },
  {
   "cell_type": "code",
   "execution_count": 76,
   "metadata": {},
   "outputs": [],
   "source": [
    "#Flip Vertically\n",
    "def vertical():\n",
    "  for (i,p) in zip(x,y):\n",
    "    x_new=i\n",
    "    y_new=h-p\n",
    "    x_v.append(x_new)\n",
    "    y_v.append(y_new)\n",
    "  np.savetxt('vertical.csv', [k for k in zip(x_v,y_v)], delimiter=',', fmt='%s')    \n"
   ]
  },
  {
   "cell_type": "code",
   "execution_count": 77,
   "metadata": {},
   "outputs": [],
   "source": [
    "#Flip Vertically and Horizonatlly\n",
    "def ver_hori():\n",
    "    for (i,p) in zip(x,y):\n",
    "      x_new=b-i\n",
    "      y_new=h-ip\n",
    "      x_hv.append(x_new)\n",
    "      y_hv.append(y_new)  \n",
    "    np.savetxt('ver_hori.csv', [k for k in zip(x_hv,y_hv)], delimiter=',', fmt='%s')      \n",
    "    "
   ]
  },
  {
   "cell_type": "code",
   "execution_count": 78,
   "metadata": {},
   "outputs": [],
   "source": [
    "#Increase size by 10%\n",
    "def big():\n",
    "    for (i,p) in zip(x,y):\n",
    "      if i*1.1>240:\n",
    "         x_new=240\n",
    "      else:\n",
    "        x_new=i*1.1\n",
    "      if p*1.1>360:\n",
    "         y_new=360\n",
    "      else:\n",
    "        y_new=p*1.1\n",
    "      x_hv.append(x_new)\n",
    "      y_hv.append(y_new)  \n",
    "    np.savetxt('big.csv', [k for k in zip(x_hv,y_hv)], delimiter=',', fmt='%s')      \n",
    "    "
   ]
  },
  {
   "cell_type": "code",
   "execution_count": 79,
   "metadata": {},
   "outputs": [],
   "source": [
    "#Decrease size by 10%\n",
    "def small():\n",
    "    for (i,p) in zip(x,y):\n",
    "      x_new=i*0.9\n",
    "      y_new=p*0.9\n",
    "      x_hv.append(x_new)\n",
    "      y_hv.append(y_new)  \n",
    "    np.savetxt('small.csv', [k for k in zip(x_hv,y_hv)], delimiter=',', fmt='%s')      "
   ]
  },
  {
   "cell_type": "code",
   "execution_count": 5,
   "metadata": {},
   "outputs": [],
   "source": [
    "horizontal()"
   ]
  }
 ],
 "metadata": {
  "kernelspec": {
   "display_name": "Python 3",
   "language": "python",
   "name": "python3"
  },
  "language_info": {
   "codemirror_mode": {
    "name": "ipython",
    "version": 3
   },
   "file_extension": ".py",
   "mimetype": "text/x-python",
   "name": "python",
   "nbconvert_exporter": "python",
   "pygments_lexer": "ipython3",
   "version": "3.7.2"
  }
 },
 "nbformat": 4,
 "nbformat_minor": 2
}
